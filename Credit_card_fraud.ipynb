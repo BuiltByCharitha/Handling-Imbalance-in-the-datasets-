{
 "cells": [
  {
   "cell_type": "code",
   "execution_count": 20,
   "id": "b96738b2-a4ee-42e9-9b69-75de3b0bf4d8",
   "metadata": {},
   "outputs": [],
   "source": [
    "import pandas as pd\n",
    "import numpy as np\n",
    "from sklearn.model_selection import train_test_split\n",
    "from sklearn.preprocessing import StandardScaler\n",
    "from sklearn.ensemble import RandomForestClassifier\n",
    "from sklearn.metrics import classification_report, accuracy_score, confusion_matrix\n",
    "from sklearn.model_selection import cross_val_score, KFold\n",
    "from scipy import stats\n",
    "from sklearn.model_selection import cross_val_score, cross_validate\n",
    "from sklearn.preprocessing import LabelEncoder\n",
    "import pytz\n",
    "import math\n",
    "import datetime"
   ]
  },
  {
   "cell_type": "code",
   "execution_count": 21,
   "id": "11699313-aabb-46fe-9e53-6a32ee27a961",
   "metadata": {},
   "outputs": [],
   "source": [
    "def is_us_tran(row):\n",
    "    \"\"\"\n",
    "    Using rough estimates for continental America to \n",
    "    detemine if the merchant longitutde and lattitude are outside of the US\n",
    "    Feature potential relevance - Foriegn vendors may indicate fraud\n",
    "    Params : \n",
    "    Row : Current row (sample) of the dataframe\n",
    "    \n",
    "    Returns :\n",
    "    1 (int) : integer boolean representation for a transaction inside the continental US\n",
    "    0 (int) : integer boolean representation for a transaction outside the continental US\n",
    "    \"\"\"\n",
    "\n",
    "    # Retrieve lattitude and longitude of merchant \n",
    "    merch_long = row['merch_long']\n",
    "    merch_lat = row['merch_lat']\n",
    "\n",
    "    # Rough estimate for ranges of US continental lat and long\n",
    "    lat_min, lat_max = 24.0, 50.0\n",
    "    long_min, long_max = -125.0, -67.0\n",
    "    if lat_min <= merch_lat <= lat_max and long_min <= merch_long <= long_max:\n",
    "        return 1\n",
    "    return 0  "
   ]
  },
  {
   "cell_type": "code",
   "execution_count": 22,
   "id": "6fe353c9-7ae7-4876-89b1-846a7b7fb611",
   "metadata": {},
   "outputs": [],
   "source": [
    "def suspicious_cat(row):\n",
    "    \"\"\"\n",
    "    Binary feature if the category of transaction is suspicious (shopping or misc)\n",
    "    Params : \n",
    "    Row : Current row (sample) of the dataframe\n",
    "    \n",
    "    Returns :\n",
    "    1 (int) : integer boolean representation for containing this type of transction \n",
    "    0 (int) : integer boolean representation for not containing this type of transction \n",
    "    \"\"\"\n",
    "    # Init suspicious category\n",
    "    suspicious = ['misc', 'shopping']\n",
    "    # Test if matching\n",
    "    category = row['category']\n",
    "    if any(substring in category.lower() for substring in suspicious):\n",
    "        return 1\n",
    "    return 0"
   ]
  },
  {
   "cell_type": "code",
   "execution_count": 23,
   "id": "97df2f2d-bc07-426e-a624-beb1bab6ab1f",
   "metadata": {},
   "outputs": [],
   "source": [
    "def extract_time_feats(credit_data):\n",
    "    \"\"\"\n",
    "    Extracts features based on the time of the transaction\n",
    "    Params : \n",
    "    credit_data (df) : Dataframe of transactions labeled with fraud \n",
    "    \n",
    "    Returns :\n",
    "    credit_data (df) : Dataframe of transactions labeled with fraud with new features\n",
    "    \"\"\"\n",
    "    # Time features\n",
    "    # Turn into datetime object\n",
    "    credit_data['datetime'] = pd.to_datetime(credit_data['unix_time'], unit='s')\n",
    "    # Feature potential relevance - Certain hours (late at night or early in morning) may indicate fraud\n",
    "    credit_data['hour'] = credit_data['datetime'].dt.hour \n",
    "    # Feature potential relevance - Could represent payday cycles or holidays\n",
    "    credit_data['day_of_month'] = credit_data['datetime'].dt.day\n",
    "    # Feature potential relevance - Certain Months (during holiday shopping season) may have more fraud\n",
    "    credit_data['month'] = credit_data['datetime'].dt.month\n",
    "    # Feature potential relevance - Older years may indicate fraud ( years of economic turbulence)\n",
    "    credit_data['year'] = credit_data['datetime'].dt.year\n",
    "    # Feature potential relevance - Certain Quarters (during holiday shopping season) may have more fraud\n",
    "    credit_data['quarter'] = credit_data['datetime'].dt.quarter  # 1, 2, 3, or 4\n",
    "    \n",
    "    # Feature potential relevance - Older people may have an increased chance of being targeted by a fraud attack\n",
    "    credit_data['dob'] = pd.to_datetime(credit_data['dob'])\n",
    "    current_date = datetime.datetime.now()\n",
    "    credit_data['age'] = credit_data['dob'].apply(lambda x: (current_date - x).days // 365)\n",
    "    \n",
    "    return credit_data\n",
    "\n"
   ]
  },
  {
   "cell_type": "code",
   "execution_count": 24,
   "id": "df8e5fec-a8e3-4541-8832-6b385023f941",
   "metadata": {},
   "outputs": [],
   "source": [
    "\n",
    "def feats(credit_data):\n",
    "    \"\"\"\n",
    "    Extracts created features\n",
    "    Params : \n",
    "    credit_data (df) : Dataframe of transactions labeled with fraud \n",
    "    \n",
    "    Returns :\n",
    "    credit_data (df) : Dataframe of transactions labeled with fraud with new features\n",
    "    \"\"\"\n",
    "    # Encoder for categories and profiles\n",
    "    le = LabelEncoder()\n",
    "    # Feature potential relevance - Transaction categories like shopping or misc may be linked to credit fraud\n",
    "    credit_data['category_cat'] = le.fit_transform(credit_data['category'])\n",
    "    # Feature potential relevance - Profiles with certain characteristics may have a higher occurence of fraud\n",
    "    credit_data['profile_cat'] = le.fit_transform(credit_data['category'])\n",
    "    \n",
    "    # Feature potential relevance - Transactions outside of the US may indicate fraud\n",
    "    credit_data['is_in_us'] = credit_data.apply(is_us_tran, axis=1)\n",
    "    \n",
    "    # Feature potential relevance - Transactions of shopping and miscellanous \n",
    "    credit_data['suspicious_cat'] = credit_data.apply(suspicious_cat, axis=1)   \n",
    "    # Frequency counts of profiles and merchants\n",
    "    # Feature potential relevance - Common merchants lead to common transactions \n",
    "    credit_data['merchant_freq_encoded'] = credit_data['merchant'].map(credit_data['merchant'].value_counts(normalize=True))\n",
    "    \n",
    "    return credit_data\n",
    "\n"
   ]
  },
  {
   "cell_type": "code",
   "execution_count": null,
   "id": "e2fbd0f8-30bd-4aed-ad80-93f7dcffd885",
   "metadata": {},
   "outputs": [],
   "source": []
  },
  {
   "cell_type": "code",
   "execution_count": 25,
   "id": "4d56d480-1945-46ae-9d1f-df85c1e47932",
   "metadata": {},
   "outputs": [],
   "source": [
    "def remove_irr(credit_data):\n",
    "    \"\"\"\n",
    "    Removes features deeemed irrelevant \n",
    "    Params : \n",
    "    credit_data (df) : Dataframe of transactions labeled with fraud \n",
    "    \n",
    "    Returns :\n",
    "    credit_data (df) : Dataframe of transactions labeled with fraud with removed features\n",
    "    \"\"\"\n",
    "    # List of columns that are less relevant for fraud detection\n",
    "    irr_col= [\n",
    "        'ssn', 'cc_num', 'first', 'last', 'street', 'state',\n",
    "        'zip', 'dob', 'acct_num', 'profile', 'trans_num', 'merch_lat', 'merch_long', \"city\", 'city_pop',\n",
    "        \"job\", \"merchant\", \"trans_date\", \"trans_time\", 'gender', 'lat', 'long', 'category', 'unix_time', 'datetime'\n",
    "    ]\n",
    "    \n",
    "    # Drop these columns from the DataFrame\n",
    "    credit_data = credit_data.drop(columns=irr_col)\n",
    "    print(\"Remaining columns:\", credit_data.columns)\n",
    "    return credit_data\n",
    "\n"
   ]
  },
  {
   "cell_type": "code",
   "execution_count": 26,
   "id": "e51ea587-c9e4-403e-aed3-4f431b1c28df",
   "metadata": {
    "scrolled": true
   },
   "outputs": [
    {
     "name": "stdout",
     "output_type": "stream",
     "text": [
      "Remaining columns: Index(['amt', 'is_fraud', 'hour', 'day_of_month', 'month', 'year', 'quarter',\n",
      "       'age', 'category_cat', 'profile_cat', 'is_in_us', 'suspicious_cat',\n",
      "       'merchant_freq_encoded'],\n",
      "      dtype='object')\n"
     ]
    }
   ],
   "source": [
    "# Data split\n",
    "# Preproccess the data for training\n",
    "credit_data= pd.read_csv('cct_train.csv')\n",
    "credit_data = extract_time_feats(credit_data)\n",
    "credit_data = feats(credit_data)\n",
    "credit_data = remove_irr(credit_data)\n",
    "\n",
    "# Split x and y\n",
    "X = credit_data.drop(columns = ['is_fraud'])\n",
    "y = credit_data['is_fraud']\n",
    "scaler = StandardScaler()\n",
    "X_scaled = scaler.fit_transform(X)"
   ]
  },
  {
   "cell_type": "code",
   "execution_count": 27,
   "id": "fa7d072c-70a3-4770-a76d-0b17b45bbf7f",
   "metadata": {},
   "outputs": [],
   "source": [
    "X_train, X_test, y_train, y_test = train_test_split(X_scaled, y, test_size=0.2, stratify=y, random_state=42)"
   ]
  },
  {
   "cell_type": "code",
   "execution_count": 28,
   "id": "0489bc39-da3e-4df4-83ff-fa9dda369c37",
   "metadata": {},
   "outputs": [],
   "source": [
    "# Random\n",
    "fraud_model = RandomForestClassifier(bootstrap=False, criterion= 'gini',\n",
    "                                     max_depth=20, max_features='sqrt', n_estimators=100,\n",
    "                                     min_samples_leaf=1, min_samples_split=2,\n",
    "                                     random_state=17, n_jobs=-1)"
   ]
  },
  {
   "cell_type": "code",
   "execution_count": 29,
   "id": "f483ed0a-f665-4b9e-a8ad-154e0511ad9d",
   "metadata": {},
   "outputs": [
    {
     "name": "stdout",
     "output_type": "stream",
     "text": [
      "0.9999286536043307\n"
     ]
    }
   ],
   "source": [
    "fraud_model.fit(X_train, y_train)\n",
    "train_accuracy = accuracy_score(y_train, fraud_model.predict(X_train))\n",
    "print(train_accuracy)"
   ]
  },
  {
   "cell_type": "code",
   "execution_count": 30,
   "id": "7637f68a-2ea7-46f0-867e-dbdfe98d0ffb",
   "metadata": {},
   "outputs": [],
   "source": [
    "\n",
    "pred = fraud_model.predict(X_test)"
   ]
  },
  {
   "cell_type": "code",
   "execution_count": 31,
   "id": "a6a1ddca-35f8-49b5-b089-b58d8817e13b",
   "metadata": {},
   "outputs": [
    {
     "name": "stdout",
     "output_type": "stream",
     "text": [
      "              precision    recall  f1-score   support\n",
      "\n",
      "           0       1.00      1.00      1.00    139446\n",
      "           1       1.00      0.89      0.94       716\n",
      "\n",
      "    accuracy                           1.00    140162\n",
      "   macro avg       1.00      0.94      0.97    140162\n",
      "weighted avg       1.00      1.00      1.00    140162\n",
      "\n"
     ]
    }
   ],
   "source": [
    "report = classification_report(y_test, pred)\n",
    "print(report)"
   ]
  },
  {
   "cell_type": "code",
   "execution_count": 32,
   "id": "fff1f47e-f353-48b0-91fa-3aa64bf8c3da",
   "metadata": {
    "scrolled": true
   },
   "outputs": [],
   "source": [
    "def feat_importances(fraud_model):\n",
    "    feature_importances = fraud_model.feature_importances_\n",
    "    feat_imp = pd.DataFrame({\n",
    "        'Feature': X.columns,\n",
    "        'Importance': feature_importances\n",
    "    }).sort_values(by='Importance', ascending=False)\n",
    "    \n",
    "    print(feat_imp)\n"
   ]
  },
  {
   "cell_type": "code",
   "execution_count": 33,
   "id": "d3757e7d-2319-4cc7-b71b-bcdbfff2011a",
   "metadata": {},
   "outputs": [
    {
     "name": "stdout",
     "output_type": "stream",
     "text": [
      "{'fit_time': array([2.593539  , 2.50084949, 2.49715877, 2.65340996, 2.57307696]), 'score_time': array([0.247715  , 0.15176415, 0.1965878 , 0.20690536, 0.24695158]), 'test_score': array([0.93422025, 0.93156733, 0.9379616 , 0.92798812, 0.91398654])}\n"
     ]
    }
   ],
   "source": [
    "scores = cross_validate(fraud_model, X_scaled, y, cv=5, scoring='f1')\n",
    "print(scores)"
   ]
  },
  {
   "cell_type": "code",
   "execution_count": 34,
   "id": "69a78445-1045-4970-8cf8-7b469027bb78",
   "metadata": {},
   "outputs": [
    {
     "data": {
      "text/plain": [
       "['task_1_model.pkl']"
      ]
     },
     "execution_count": 34,
     "metadata": {},
     "output_type": "execute_result"
    }
   ],
   "source": [
    "import joblib\n",
    "fraud_model.fit(X_scaled, y)\n",
    "# Assuming your model is called `model`\n",
    "joblib.dump(fraud_model, 'task_1_model.pkl')"
   ]
  }
 ],
 "metadata": {
  "kernelspec": {
   "display_name": "Python 3 (ipykernel)",
   "language": "python",
   "name": "python3"
  },
  "language_info": {
   "codemirror_mode": {
    "name": "ipython",
    "version": 3
   },
   "file_extension": ".py",
   "mimetype": "text/x-python",
   "name": "python",
   "nbconvert_exporter": "python",
   "pygments_lexer": "ipython3",
   "version": "3.10.10"
  }
 },
 "nbformat": 4,
 "nbformat_minor": 5
}
